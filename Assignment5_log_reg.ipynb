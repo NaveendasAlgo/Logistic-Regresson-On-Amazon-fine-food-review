{
 "cells": [
  {
   "cell_type": "code",
   "execution_count": 37,
   "metadata": {
    "collapsed": true
   },
   "outputs": [],
   "source": [
    "# Importing libraries required for the assignments\n",
    "%matplotlib inline\n",
    "import warnings\n",
    "warnings.filterwarnings(\"ignore\")\n",
    "import pickle\n",
    "import pprint\n",
    "\n",
    "import sqlite3\n",
    "import pandas as pd\n",
    "import numpy as np\n",
    "import nltk\n",
    "import prettytable\n",
    "\n",
    "import re\n",
    "from wordcloud import WordCloud\n",
    "from nltk.corpus import stopwords\n",
    "from sklearn.feature_extraction.text import CountVectorizer\n",
    "import seaborn as sns\n",
    "import matplotlib.pyplot as plt \n",
    "from sklearn.preprocessing import Normalizer\n",
    "from sklearn.feature_extraction.text import TfidfVectorizer\n",
    "from gensim.models import Word2Vec\n",
    "\n",
    "from sklearn.model_selection import GridSearchCV\n",
    "\n",
    "#from sklearn.neighbors import KNeighborsClassifier\n",
    "#from sklearn import cross_validation\n",
    "#from sklearn.metrics import accuracy_score\n",
    "from sklearn.model_selection import train_test_split\n",
    "from sklearn.metrics import confusion_matrix,f1_score,make_scorer\n",
    "#from sklearn.model_selection import cross_val_score\n",
    "from sklearn.metrics import classification_report\n",
    "#from sklearn.naive_bayes import MultinomialNB,BernoulliNB,GaussianNB\n",
    "from sklearn.linear_model import LogisticRegression\n",
    "#from sklearn.decomposition import TruncatedSVD"
   ]
  },
  {
   "cell_type": "code",
   "execution_count": 8,
   "metadata": {
    "collapsed": true
   },
   "outputs": [],
   "source": [
    "pkl_file = open('data1.pkl', 'rb')\n",
    "filtered_data = pickle.load(pkl_file)\n",
    "#pprint.pprint(filtered_data)\n",
    "pkl_file.close()"
   ]
  },
  {
   "cell_type": "code",
   "execution_count": 9,
   "metadata": {
    "scrolled": false
   },
   "outputs": [
    {
     "data": {
      "text/plain": [
       "Index(['ProductId', 'UserId', 'ProfileName', 'HelpfulnessNumerator',\n",
       "       'HelpfulnessDenominator', 'Time', 'Summary', 'Text', 'Sentiment',\n",
       "       'CleanedText'],\n",
       "      dtype='object')"
      ]
     },
     "execution_count": 9,
     "metadata": {},
     "output_type": "execute_result"
    }
   ],
   "source": [
    "# Checking columns present in data\n",
    "\n",
    "filtered_data.columns"
   ]
  },
  {
   "cell_type": "code",
   "execution_count": 10,
   "metadata": {
    "collapsed": true
   },
   "outputs": [],
   "source": [
    "# Time base sorting\n",
    "\n",
    "filtered_data.sort_values('Time',inplace=True)"
   ]
  },
  {
   "cell_type": "code",
   "execution_count": 11,
   "metadata": {
    "collapsed": true
   },
   "outputs": [],
   "source": [
    "# Filtering only 100K data points for this assignments\n",
    "\n",
    "filtered_100k=filtered_data.iloc[:100000,:]"
   ]
  },
  {
   "cell_type": "code",
   "execution_count": 12,
   "metadata": {},
   "outputs": [
    {
     "data": {
      "text/plain": [
       "61682     948672000\n",
       "1130      961718400\n",
       "1129      962236800\n",
       "26503    1067040000\n",
       "26502    1067040000\n",
       "54376    1067472000\n",
       "35508    1067558400\n",
       "35655    1067644800\n",
       "35654    1067904000\n",
       "10388    1067990400\n",
       "82577    1068076800\n",
       "26501    1068076800\n",
       "81533    1068422400\n",
       "55130    1068940800\n",
       "98503    1069027200\n",
       "75316    1069113600\n",
       "36417    1069459200\n",
       "44110    1070668800\n",
       "22710    1071100800\n",
       "74752    1071705600\n",
       "Name: Time, dtype: int64"
      ]
     },
     "execution_count": 12,
     "metadata": {},
     "output_type": "execute_result"
    }
   ],
   "source": [
    "filtered_100k.Time.head(20)"
   ]
  },
  {
   "cell_type": "code",
   "execution_count": 13,
   "metadata": {
    "collapsed": true
   },
   "outputs": [],
   "source": [
    "filtered_100k.reset_index(inplace=True)"
   ]
  },
  {
   "cell_type": "code",
   "execution_count": 14,
   "metadata": {
    "collapsed": true
   },
   "outputs": [],
   "source": [
    "label=filtered_100k.Sentiment"
   ]
  },
  {
   "cell_type": "code",
   "execution_count": 15,
   "metadata": {
    "collapsed": true
   },
   "outputs": [],
   "source": [
    "# Dropping target column\n",
    "filtered_100k.drop('Sentiment',axis=1,inplace=True)"
   ]
  },
  {
   "cell_type": "code",
   "execution_count": 16,
   "metadata": {
    "collapsed": true
   },
   "outputs": [],
   "source": [
    "# Creating new label from reviews\n",
    "\n",
    "filtered_100k['Tex_len']=filtered_100k.CleanedText.apply(lambda x:len(x.split(\" \")))"
   ]
  },
  {
   "cell_type": "code",
   "execution_count": 17,
   "metadata": {},
   "outputs": [
    {
     "data": {
      "text/plain": [
       "0    28\n",
       "1    17\n",
       "2    36\n",
       "3    10\n",
       "4    15\n",
       "Name: Tex_len, dtype: int64"
      ]
     },
     "execution_count": 17,
     "metadata": {},
     "output_type": "execute_result"
    }
   ],
   "source": [
    "filtered_100k.Tex_len.head()"
   ]
  },
  {
   "cell_type": "code",
   "execution_count": 18,
   "metadata": {
    "collapsed": true
   },
   "outputs": [],
   "source": [
    "filtered_100k.drop('index',axis=1,inplace=True)"
   ]
  },
  {
   "cell_type": "code",
   "execution_count": 19,
   "metadata": {},
   "outputs": [
    {
     "data": {
      "text/html": [
       "<div>\n",
       "<style>\n",
       "    .dataframe thead tr:only-child th {\n",
       "        text-align: right;\n",
       "    }\n",
       "\n",
       "    .dataframe thead th {\n",
       "        text-align: left;\n",
       "    }\n",
       "\n",
       "    .dataframe tbody tr th {\n",
       "        vertical-align: top;\n",
       "    }\n",
       "</style>\n",
       "<table border=\"1\" class=\"dataframe\">\n",
       "  <thead>\n",
       "    <tr style=\"text-align: right;\">\n",
       "      <th></th>\n",
       "      <th>ProductId</th>\n",
       "      <th>UserId</th>\n",
       "      <th>ProfileName</th>\n",
       "      <th>HelpfulnessNumerator</th>\n",
       "      <th>HelpfulnessDenominator</th>\n",
       "      <th>Time</th>\n",
       "      <th>Summary</th>\n",
       "      <th>Text</th>\n",
       "      <th>CleanedText</th>\n",
       "      <th>Tex_len</th>\n",
       "    </tr>\n",
       "  </thead>\n",
       "  <tbody>\n",
       "    <tr>\n",
       "      <th>0</th>\n",
       "      <td>B00002N8SM</td>\n",
       "      <td>A32DW342WBJ6BX</td>\n",
       "      <td>Buttersugar</td>\n",
       "      <td>0</td>\n",
       "      <td>0</td>\n",
       "      <td>948672000</td>\n",
       "      <td>A sure death for flies</td>\n",
       "      <td>I bought a few of these after my apartment was...</td>\n",
       "      <td>bought apart infest fruit fli hour trap mani f...</td>\n",
       "      <td>28</td>\n",
       "    </tr>\n",
       "    <tr>\n",
       "      <th>1</th>\n",
       "      <td>B00002Z754</td>\n",
       "      <td>A29Z5PI9BW2PU3</td>\n",
       "      <td>Robbie</td>\n",
       "      <td>7</td>\n",
       "      <td>7</td>\n",
       "      <td>961718400</td>\n",
       "      <td>Great Product</td>\n",
       "      <td>This was a really good idea and the final prod...</td>\n",
       "      <td>realli good idea final product outstand use de...</td>\n",
       "      <td>17</td>\n",
       "    </tr>\n",
       "    <tr>\n",
       "      <th>2</th>\n",
       "      <td>B00002Z754</td>\n",
       "      <td>A3B8RCEI0FXFI6</td>\n",
       "      <td>B G Chase</td>\n",
       "      <td>10</td>\n",
       "      <td>10</td>\n",
       "      <td>962236800</td>\n",
       "      <td>WOW Make your own 'slickers' !</td>\n",
       "      <td>I just received my shipment and could hardly w...</td>\n",
       "      <td>receiv shipment could hard wait tri product lo...</td>\n",
       "      <td>36</td>\n",
       "    </tr>\n",
       "    <tr>\n",
       "      <th>3</th>\n",
       "      <td>B00008RCMI</td>\n",
       "      <td>A284C7M23F0APC</td>\n",
       "      <td>A. Mendoza</td>\n",
       "      <td>0</td>\n",
       "      <td>0</td>\n",
       "      <td>1067040000</td>\n",
       "      <td>Best sugarless gum ever!</td>\n",
       "      <td>I love this stuff. It is sugar-free so it does...</td>\n",
       "      <td>love stuff rot gum tast good go buy gum get</td>\n",
       "      <td>10</td>\n",
       "    </tr>\n",
       "    <tr>\n",
       "      <th>4</th>\n",
       "      <td>B00008RCMI</td>\n",
       "      <td>A19E94CF5O1LY7</td>\n",
       "      <td>Andrew Arnold</td>\n",
       "      <td>0</td>\n",
       "      <td>0</td>\n",
       "      <td>1067040000</td>\n",
       "      <td>I've chewed this gum many times, but used?</td>\n",
       "      <td>Nothing against the product, but it does bothe...</td>\n",
       "      <td>noth product bother link top page buy use chew...</td>\n",
       "      <td>15</td>\n",
       "    </tr>\n",
       "  </tbody>\n",
       "</table>\n",
       "</div>"
      ],
      "text/plain": [
       "    ProductId          UserId    ProfileName  HelpfulnessNumerator  \\\n",
       "0  B00002N8SM  A32DW342WBJ6BX    Buttersugar                     0   \n",
       "1  B00002Z754  A29Z5PI9BW2PU3         Robbie                     7   \n",
       "2  B00002Z754  A3B8RCEI0FXFI6      B G Chase                    10   \n",
       "3  B00008RCMI  A284C7M23F0APC     A. Mendoza                     0   \n",
       "4  B00008RCMI  A19E94CF5O1LY7  Andrew Arnold                     0   \n",
       "\n",
       "   HelpfulnessDenominator        Time  \\\n",
       "0                       0   948672000   \n",
       "1                       7   961718400   \n",
       "2                      10   962236800   \n",
       "3                       0  1067040000   \n",
       "4                       0  1067040000   \n",
       "\n",
       "                                      Summary  \\\n",
       "0                      A sure death for flies   \n",
       "1                               Great Product   \n",
       "2              WOW Make your own 'slickers' !   \n",
       "3                    Best sugarless gum ever!   \n",
       "4  I've chewed this gum many times, but used?   \n",
       "\n",
       "                                                Text  \\\n",
       "0  I bought a few of these after my apartment was...   \n",
       "1  This was a really good idea and the final prod...   \n",
       "2  I just received my shipment and could hardly w...   \n",
       "3  I love this stuff. It is sugar-free so it does...   \n",
       "4  Nothing against the product, but it does bothe...   \n",
       "\n",
       "                                         CleanedText  Tex_len  \n",
       "0  bought apart infest fruit fli hour trap mani f...       28  \n",
       "1  realli good idea final product outstand use de...       17  \n",
       "2  receiv shipment could hard wait tri product lo...       36  \n",
       "3        love stuff rot gum tast good go buy gum get       10  \n",
       "4  noth product bother link top page buy use chew...       15  "
      ]
     },
     "execution_count": 19,
     "metadata": {},
     "output_type": "execute_result"
    }
   ],
   "source": [
    "filtered_100k.head()"
   ]
  },
  {
   "cell_type": "markdown",
   "metadata": {},
   "source": [
    "### Train Test Split"
   ]
  },
  {
   "cell_type": "code",
   "execution_count": 20,
   "metadata": {
    "collapsed": true
   },
   "outputs": [],
   "source": [
    "X_train, X_test, y_train, y_test = train_test_split(filtered_100k, label, test_size=0.3, random_state=50)\n"
   ]
  },
  {
   "cell_type": "code",
   "execution_count": 21,
   "metadata": {},
   "outputs": [
    {
     "name": "stdout",
     "output_type": "stream",
     "text": [
      "(70000, 10) 70000\n",
      "(30000, 10) 30000\n"
     ]
    }
   ],
   "source": [
    "\n",
    "print(X_train.shape,len(y_train))\n",
    "print(X_test.shape,len(y_test))"
   ]
  },
  {
   "cell_type": "markdown",
   "metadata": {},
   "source": [
    "### Bag Of Words"
   ]
  },
  {
   "cell_type": "code",
   "execution_count": 22,
   "metadata": {
    "collapsed": true
   },
   "outputs": [],
   "source": [
    "# Creating vectorizer\n",
    "\n",
    "count_vector=CountVectorizer(ngram_range=(1,2),dtype='float')\n",
    "vocab=count_vector.fit(X_train.CleanedText)\n",
    "\n",
    "bow_train=count_vector.transform(X_train.CleanedText)\n",
    "bow_test=count_vector.transform(X_test.CleanedText)"
   ]
  },
  {
   "cell_type": "code",
   "execution_count": 23,
   "metadata": {
    "collapsed": true
   },
   "outputs": [],
   "source": [
    "#Data Scaling-Normilizer has given better result than Std scaler\n",
    "\n",
    "scaler = Normalizer()\n",
    "scaler.fit(bow_train)\n",
    "bow_train=scaler.transform(bow_train)\n",
    "bow_test=scaler.transform(bow_test)"
   ]
  },
  {
   "cell_type": "code",
   "execution_count": 20,
   "metadata": {},
   "outputs": [
    {
     "name": "stdout",
     "output_type": "stream",
     "text": [
      "(70000, 936298)\n",
      "(30000, 936298)\n"
     ]
    }
   ],
   "source": [
    "print(bow_train.get_shape())\n",
    "print(bow_test.get_shape())"
   ]
  },
  {
   "cell_type": "markdown",
   "metadata": {},
   "source": [
    "## Applying Logistic Regression on Bag of word technique"
   ]
  },
  {
   "cell_type": "code",
   "execution_count": 21,
   "metadata": {
    "collapsed": true
   },
   "outputs": [],
   "source": [
    "# Creating summary table to store summary of models\n",
    "summary_table = prettytable.PrettyTable([\"Method\",\"Model\",\"Optimam C\", \"F-1 Score\"])\n",
    "noise=.001\n",
    "# defining fait method and validation methods \n",
    "def fit_and_val_model(X_train,y_train,X_test,y_test,method,table=summary_table):\n",
    "\n",
    "    #creating weighted f-1 scorer\n",
    "    scorer=make_scorer(f1_score,average='weighted')\n",
    "    \n",
    "    #model fitting\n",
    "    tuned_parameters = {'C': [10**-4, 10**-2,10**-1, 10**0, 10**1,10**2, 10**4]}\n",
    "    model = GridSearchCV(LogisticRegression(), tuned_parameters, scoring = scorer, cv=5)\n",
    "    model.fit(X_train, y_train)\n",
    "\n",
    "\n",
    "    print(model.best_estimator_)\n",
    "    print(\"\\nThe model F-1 score is\",model.score(X_test, y_test)*100)\n",
    "\n",
    "    pred = model.predict(X_test)\n",
    "    f1=f1_score(y_pred=pred,y_true=y_test,pos_label='Positive')\n",
    "    score=f1*100\n",
    "    \n",
    "    print (\"\\n\\nF-1 Scores on test data on optimal parameters is  {:.4f} %\\n\\n\".format(f1*100))\n",
    "    #Add row to the summary table\n",
    "    table.add_row([method,'Logistic_Reg',model.best_estimator_.C,score])\n",
    "\n",
    "    # evaluate accuracy\n",
    "\n",
    "    cnf_mtrx=confusion_matrix(y_true=y_test, y_pred=pred, labels=None, sample_weight=None)\n",
    "    print(cnf_mtrx)\n",
    "    # Heatmap to display\n",
    "    sns.heatmap(cnf_mtrx,annot=True,cmap='Blues', fmt='g')\n",
    "    plt.show()\n",
    "    print (classification_report(y_test, pred))\n",
    "    \n",
    "    return model\n",
    "  \n",
    "\n",
    "    "
   ]
  },
  {
   "cell_type": "code",
   "execution_count": 22,
   "metadata": {},
   "outputs": [
    {
     "name": "stdout",
     "output_type": "stream",
     "text": [
      "LogisticRegression(C=100, class_weight=None, dual=False, fit_intercept=True,\n",
      "          intercept_scaling=1, max_iter=100, multi_class='ovr', n_jobs=1,\n",
      "          penalty='l2', random_state=None, solver='liblinear', tol=0.0001,\n",
      "          verbose=0, warm_start=False)\n",
      "\n",
      "The model F-1 score is 92.04224426562614\n",
      "\n",
      "\n",
      "F-1 Scores on test data on optimal parameters is  95.5266 %\n",
      "\n",
      "\n",
      "[[ 3224  1580]\n",
      " [  713 24483]]\n"
     ]
    },
    {
     "data": {
      "image/png": "[encoded data removed]",
      "text/plain": [
       "<matplotlib.figure.Figure at 0x22fa8d6e6a0>"
      ]
     },
     "metadata": {},
     "output_type": "display_data"
    },
    {
     "name": "stdout",
     "output_type": "stream",
     "text": [
      "             precision    recall  f1-score   support\n",
      "\n",
      "   Negative       0.82      0.67      0.74      4804\n",
      "   Positive       0.94      0.97      0.96     25196\n",
      "\n",
      "avg / total       0.92      0.92      0.92     30000\n",
      "\n"
     ]
    }
   ],
   "source": [
    "#Fitting Model for Bag of word\n",
    "model_bow=fit_and_val_model(bow_train,y_train,bow_test,y_test,\"BOW\")"
   ]
  },
  {
   "cell_type": "code",
   "execution_count": 26,
   "metadata": {
    "collapsed": true
   },
   "outputs": [],
   "source": [
    "\n",
    "\n",
    "#Function to plot Misclassification error against C\n",
    "def plot_error_vs_c_r(gsv):\n",
    "    x1=[]\n",
    "    y1=[]\n",
    "    for a in gsv.grid_scores_:\n",
    "        \n",
    "            y1.append(1-a[1])\n",
    "            x1.append(a[0]['C'])\n",
    "\n",
    "    ind1 = np.argsort(x1)\n",
    "    x1=np.array(x1)\n",
    "    y1=np.array(y1)\n",
    "    plt.xlim(-10,1010)\n",
    "    plt.ylim(0,0.2)\n",
    "    plt.xlabel(\"C\",fontsize=15)\n",
    "    plt.ylabel(\"Misclassification Error\")\n",
    "    plt.title('Misclassification Error v/s C')\n",
    "    plt.plot(x1[ind1],y1[ind1],'b')\n",
    "    plt.legend()\n",
    "    plt.show()"
   ]
  },
  {
   "cell_type": "code",
   "execution_count": 27,
   "metadata": {},
   "outputs": [
    {
     "name": "stderr",
     "output_type": "stream",
     "text": [
      "No handles with labels found to put in legend.\n"
     ]
    },
    {
     "data": {
      "image/png": "[encoded data removed]",
      "text/plain": [
       "<matplotlib.figure.Figure at 0x22faa0bc5c0>"
      ]
     },
     "metadata": {},
     "output_type": "display_data"
    }
   ],
   "source": [
    "plot_error_vs_c_r(model_bow)"
   ]
  },
  {
   "cell_type": "markdown",
   "metadata": {},
   "source": [
    "## positive and Negative important features"
   ]
  },
  {
   "cell_type": "code",
   "execution_count": 67,
   "metadata": {},
   "outputs": [
    {
     "name": "stdout",
     "output_type": "stream",
     "text": [
      "\n",
      "-Top 20 positive-\n",
      "Coefficient              Word\n",
      "  18.080205    high recommend\n",
      "  15.494530            delici\n",
      "  15.145266              amaz\n",
      "  15.093377           perfect\n",
      "  14.007243             excel\n",
      "  13.576708              hook\n",
      "  12.814695             worri\n",
      "  12.389460              best\n",
      "  12.194448           skeptic\n",
      "  11.991574  pleasant surpris\n",
      "  11.951586             yummi\n",
      "  11.568554              beat\n",
      "  11.337003              nice\n",
      "  11.302593       even better\n",
      "  11.293159        well worth\n",
      "  11.220374             great\n",
      "  11.152751          drawback\n",
      "  11.148935             uniqu\n",
      "  10.947321         complaint\n",
      "  10.802550         five star\n",
      "\n",
      "-Top 20 negative-\n",
      "Coefficient        Word\n",
      " -13.206646        weak\n",
      " -13.535546     unpleas\n",
      " -13.957391      return\n",
      " -14.225451   never buy\n",
      " -14.406827    unfortun\n",
      " -14.564792       threw\n",
      " -14.690462       shame\n",
      " -14.712978      cancel\n",
      " -14.798211       trash\n",
      " -14.845801     undrink\n",
      " -14.887052   want like\n",
      " -15.334178       bland\n",
      " -15.750716     disgust\n",
      " -15.906526   tasteless\n",
      " -16.301536  disappoint\n",
      " -16.590034     horribl\n",
      " -17.546100          aw\n",
      " -18.707165    two star\n",
      " -19.279446     terribl\n",
      " -28.206905       worst\n"
     ]
    }
   ],
   "source": [
    "w = count_vector.get_feature_names()\n",
    "coef = model_bow.best_estimator_.coef_.tolist()[0]\n",
    "coeff_df = pd.DataFrame({'Word' : w, 'Coefficient' : coef})\n",
    "coeff_df = coeff_df.sort_values(['Coefficient', 'Word'], ascending=[0, 1])\n",
    "print('')\n",
    "print('-Top 20 positive-')\n",
    "print(coeff_df.head(20).to_string(index=False))\n",
    "print('')\n",
    "print('-Top 20 negative-')        \n",
    "print(coeff_df.tail(20).to_string(index=False))"
   ]
  },
  {
   "cell_type": "markdown",
   "metadata": {},
   "source": [
    "## Pertubation Test"
   ]
  },
  {
   "cell_type": "code",
   "execution_count": 24,
   "metadata": {
    "collapsed": true
   },
   "outputs": [],
   "source": [
    "noise=.001\n",
    "def fit_and_val(X_train,y_train,X_test,y_test,method):\n",
    "\n",
    "    scorer=make_scorer(f1_score,average='weighted')\n",
    "    tuned_parameters = {'C': [10**-4, 10**-2, 10**0, 10**2, 10**4]}\n",
    "    model = GridSearchCV(LogisticRegression(), tuned_parameters, scoring = scorer, cv=5)\n",
    "    model.fit(X_train, y_train)\n",
    "\n",
    "\n",
    "    print(model.best_estimator_)\n",
    "    print(model.score(X_test, y_test))\n",
    "    w=model.best_estimator_.coef_\n",
    "#    print (\"\\nmodel performance is {:.4f}  %\".format(scores*100))\n",
    "    X_train.data=(X_train.data+noise)\n",
    "    model.fit(X_train,y_train)\n",
    "    w_noise=model.best_estimator_.coef_\n",
    "\n",
    "    \n",
    "    return w,w_noise"
   ]
  },
  {
   "cell_type": "code",
   "execution_count": 25,
   "metadata": {},
   "outputs": [
    {
     "name": "stdout",
     "output_type": "stream",
     "text": [
      "LogisticRegression(C=100, class_weight=None, dual=False, fit_intercept=True,\n",
      "          intercept_scaling=1, max_iter=100, multi_class='warn',\n",
      "          n_jobs=None, penalty='l2', random_state=None, solver='warn',\n",
      "          tol=0.0001, verbose=0, warm_start=False)\n",
      "0.9204224426562614\n"
     ]
    }
   ],
   "source": [
    "wieght_vec,wieght_vec_noise=fit_and_val(bow_train,y_train,bow_test,y_test,\"BOW\")"
   ]
  },
  {
   "cell_type": "code",
   "execution_count": 32,
   "metadata": {
    "collapsed": true
   },
   "outputs": [],
   "source": [
    "diff=(abs((wieght_vec-wieght_vec_noise)/(wieght_vec))*100)"
   ]
  },
  {
   "cell_type": "code",
   "execution_count": 33,
   "metadata": {},
   "outputs": [
    {
     "name": "stdout",
     "output_type": "stream",
     "text": [
      "[[ 7.03119146e-04 -9.97335848e-01 -9.97335848e-01 ...  1.27624704e-02\n",
      "  -3.57295615e-01 -3.57295615e-01]]\n"
     ]
    }
   ],
   "source": [
    "print(wieght_vec)"
   ]
  },
  {
   "cell_type": "code",
   "execution_count": 34,
   "metadata": {},
   "outputs": [
    {
     "name": "stdout",
     "output_type": "stream",
     "text": [
      "[[ 5.26089189e-04 -9.90273284e-01 -9.90273284e-01 ...  1.14379425e-02\n",
      "  -3.53569524e-01 -3.53569524e-01]]\n"
     ]
    }
   ],
   "source": [
    "print(wieght_vec_noise)"
   ]
  },
  {
   "cell_type": "code",
   "execution_count": 35,
   "metadata": {},
   "outputs": [
    {
     "name": "stdout",
     "output_type": "stream",
     "text": [
      "84223\n"
     ]
    }
   ],
   "source": [
    "print(diff[np.where(diff > 30)].size)"
   ]
  },
  {
   "cell_type": "markdown",
   "metadata": {},
   "source": [
    "84223 features have weight changes greater than 30%. Hence the features are multicollinear"
   ]
  },
  {
   "cell_type": "code",
   "execution_count": 46,
   "metadata": {},
   "outputs": [
    {
     "name": "stdout",
     "output_type": "stream",
     "text": [
      "0 \t 1.4695513016860096e-06\n",
      "10 \t 0.2189736010718234\n",
      "20 \t 0.43263692986461355\n",
      "30 \t 0.679063754344147\n",
      "40 \t 1.0250103302539102\n",
      "50 \t 1.6174555993307318\n",
      "60 \t 2.786294695032271\n",
      "70 \t 5.469606667249029\n",
      "80 \t 12.582727301552755\n",
      "90 \t 27.61731048417308\n",
      "99 \t 68.88447121865063\n",
      "100 \t 91574.81955658789\n"
     ]
    }
   ],
   "source": [
    "#Percentile check using elbow method\n",
    "\n",
    "\n",
    "for i in [0,10,20,30,40,50,60,70,80,90,99,100]:\n",
    "    print (i,\"\\t\",np.percentile(diff,i))"
   ]
  },
  {
   "cell_type": "markdown",
   "metadata": {},
   "source": [
    "### Since value changes dreastically between 99 percentile and 100th percentile , so checking between 99 to 100"
   ]
  },
  {
   "cell_type": "code",
   "execution_count": 47,
   "metadata": {},
   "outputs": [
    {
     "name": "stdout",
     "output_type": "stream",
     "text": [
      "99.1 \t 69.97436319491256\n",
      "99.2 \t 71.10099062682309\n",
      "99.3 \t 72.44470278732685\n",
      "99.4 \t 73.51357381233778\n",
      "99.5 \t 74.65195359424874\n",
      "99.6 \t 75.99353850273316\n",
      "99.7 \t 77.25181503008362\n",
      "99.8 \t 78.4673873990905\n",
      "99.9 \t 83.40415660896264\n",
      "100 \t 91574.81955658789\n"
     ]
    }
   ],
   "source": [
    "for i in [99.1,99.2,99.3,99.4,99.5,99.6,99.7,99.8,99.9,100]:\n",
    "    print (i,\"\\t\",np.percentile(diff,i))"
   ]
  },
  {
   "cell_type": "code",
   "execution_count": 57,
   "metadata": {
    "collapsed": true
   },
   "outputs": [],
   "source": [
    "#Associating word with diff wiegt vector\n",
    "w = count_vector.get_feature_names()\n",
    "coef = diff[0]\n",
    "diff_df = pd.DataFrame({'Word' : w, 'Difference' : coef})"
   ]
  },
  {
   "cell_type": "markdown",
   "metadata": {},
   "source": [
    "### Printing words which has difference greater than 83.4 and there is 937 such words/feature"
   ]
  },
  {
   "cell_type": "code",
   "execution_count": 64,
   "metadata": {},
   "outputs": [
    {
     "name": "stdout",
     "output_type": "stream",
     "text": [
      "1300         absolut weird\n",
      "3201            acid decaf\n",
      "3316          acid ingredi\n",
      "4631            actual bar\n",
      "4651           actual best\n",
      "4703          actual carri\n",
      "5040          actual jerki\n",
      "5069          actual lemon\n",
      "5843             ad distil\n",
      "6324               ad shot\n",
      "7066              add herb\n",
      "7815          addict candi\n",
      "8495             addit get\n",
      "8595            addit make\n",
      "9452          admit defeat\n",
      "9700               adolesc\n",
      "10323         advanc stage\n",
      "10651         advertis get\n",
      "12532      aftertast found\n",
      "12789     aftertast though\n",
      "13108           agav syrup\n",
      "15233          air obvious\n",
      "15348              airedal\n",
      "18812         almost equal\n",
      "19284         almost sugar\n",
      "19387         almost worth\n",
      "19635         alon product\n",
      "21238            also bite\n",
      "24284        altogeth much\n",
      "24341         altoid great\n",
      "                ...       \n",
      "909111          well start\n",
      "909222        well thought\n",
      "909368          well weird\n",
      "909394         well within\n",
      "910665              whatev\n",
      "912480        whim groceri\n",
      "912488           whim love\n",
      "916017         window open\n",
      "916981            wire fox\n",
      "918056         within week\n",
      "918554         without gum\n",
      "919831         wonder came\n",
      "920204         wonder item\n",
      "921229         word expect\n",
      "921952           work find\n",
      "922275      work nespresso\n",
      "924065        wors caffein\n",
      "924293        wors thought\n",
      "924947         worth onlin\n",
      "925675        would dehydr\n",
      "925970          would high\n",
      "926791         would upset\n",
      "927633      wrapper chocol\n",
      "930557         year replac\n",
      "932622           yet right\n",
      "935148      zero complaint\n",
      "935275          zero would\n",
      "935566           zico pure\n",
      "935738          zing sweet\n",
      "935878       zipfizz total\n",
      "Name: Word, Length: 937, dtype: object\n"
     ]
    }
   ],
   "source": [
    "print(diff_df.Word[diff_df.Difference > 83.4])"
   ]
  },
  {
   "cell_type": "markdown",
   "metadata": {},
   "source": [
    "## Sparsity Check"
   ]
  },
  {
   "cell_type": "code",
   "execution_count": 57,
   "metadata": {},
   "outputs": [
    {
     "name": "stdout",
     "output_type": "stream",
     "text": [
      "\n",
      "For C=10000.0000\n",
      "F1-Score on test set: 95.0864%\n",
      "Non Zero weights: 37888\n",
      "\n",
      "For C=1000.0000\n",
      "F1-Score on test set: 94.7948%\n",
      "Non Zero weights: 18192\n",
      "\n",
      "For C=100.0000\n",
      "F1-Score on test set: 94.8506%\n",
      "Non Zero weights: 14458\n",
      "\n",
      "For C=10.0000\n",
      "F1-Score on test set: 95.1257%\n",
      "Non Zero weights: 9588\n",
      "\n",
      "For C=1.0000\n",
      "F1-Score on test set: 95.1877%\n",
      "Non Zero weights: 1066\n",
      "\n",
      "For C=0.1000\n",
      "F1-Score on test set: 93.5323%\n",
      "Non Zero weights: 169\n"
     ]
    }
   ],
   "source": [
    "nbrs_list=[10**4,10**3, 10**2, 10,10**0, 10**-1]\n",
    "for C in nbrs_list:\n",
    "    clf = LogisticRegression(C= C, penalty= 'l1')\n",
    "    clf.fit(bow_train,y_train)\n",
    "    y_pred = clf.predict(bow_test)\n",
    "    print(\"\\nFor C={:.4f}\".format(C))\n",
    "    print(\"F1-Score on test set: {:0.4f}%\".format(f1_score(y_test, y_pred,pos_label='Positive')*100))\n",
    "    print(\"Non Zero weights:\",np.count_nonzero(clf.coef_))"
   ]
  },
  {
   "cell_type": "markdown",
   "metadata": {},
   "source": [
    "### Here sparsity increases from 37888 non-zero weights For C=10000 to only 169 non-zero weightsFor C=0.1 when we use L1 Regularization"
   ]
  },
  {
   "cell_type": "markdown",
   "metadata": {},
   "source": [
    "\n",
    "\n",
    "\n",
    "\n",
    "### TF-IDF intialization and dimension creation"
   ]
  },
  {
   "cell_type": "code",
   "execution_count": 28,
   "metadata": {},
   "outputs": [
    {
     "name": "stdout",
     "output_type": "stream",
     "text": [
      "the type of count vectorizer  <class 'sklearn.feature_extraction.text.TfidfVectorizer'>\n"
     ]
    }
   ],
   "source": [
    "#craeting TF-IDF vectorizer\n",
    "\n",
    "tf_idf_vect = TfidfVectorizer(ngram_range=(1,2))\n",
    "filtered_tf_idf = tf_idf_vect.fit(X_train.CleanedText)\n",
    "print(\"the type of count vectorizer \",type(filtered_tf_idf))\n",
    "#print(\"the shape of out TF-IDF vectorizer \",filtered_tf_idf.get_shape())"
   ]
  },
  {
   "cell_type": "code",
   "execution_count": 29,
   "metadata": {
    "collapsed": true
   },
   "outputs": [],
   "source": [
    "\n",
    "tf_idf_train=tf_idf_vect.transform(X_train.CleanedText)\n",
    "tf_idf_test=tf_idf_vect.transform(X_test.CleanedText)"
   ]
  },
  {
   "cell_type": "code",
   "execution_count": 30,
   "metadata": {
    "collapsed": true
   },
   "outputs": [],
   "source": [
    "#feature scaling\n",
    "\n",
    "scaler = Normalizer()\n",
    "scaler.fit(tf_idf_train)\n",
    "tf_idf_train=scaler.transform(tf_idf_train)\n",
    "tf_idf_test=scaler.transform(tf_idf_test)"
   ]
  },
  {
   "cell_type": "code",
   "execution_count": 25,
   "metadata": {},
   "outputs": [
    {
     "name": "stdout",
     "output_type": "stream",
     "text": [
      "(70000, 936298)\n",
      "(30000, 936298)\n"
     ]
    }
   ],
   "source": [
    "print(tf_idf_train.get_shape())\n",
    "print(tf_idf_test.get_shape())"
   ]
  },
  {
   "cell_type": "markdown",
   "metadata": {},
   "source": [
    "## Applying logistic Regression on TF-IDF"
   ]
  },
  {
   "cell_type": "code",
   "execution_count": 31,
   "metadata": {},
   "outputs": [
    {
     "name": "stdout",
     "output_type": "stream",
     "text": [
      "LogisticRegression(C=10000, class_weight=None, dual=False, fit_intercept=True,\n",
      "          intercept_scaling=1, max_iter=100, multi_class='ovr', n_jobs=1,\n",
      "          penalty='l2', random_state=None, solver='liblinear', tol=0.0001,\n",
      "          verbose=0, warm_start=False)\n",
      "\n",
      "The model F-1 score is 92.20937849051664\n",
      "\n",
      "\n",
      "F-1 Scores on test data on optimal parameters is  95.6255 %\n",
      "\n",
      "\n",
      "[[ 3241  1563]\n",
      " [  680 24516]]\n"
     ]
    },
    {
     "data": {
      "image/png": "[encoded data removed]",
      "text/plain": [
       "<matplotlib.figure.Figure at 0x22fb34cd860>"
      ]
     },
     "metadata": {},
     "output_type": "display_data"
    },
    {
     "name": "stdout",
     "output_type": "stream",
     "text": [
      "             precision    recall  f1-score   support\n",
      "\n",
      "   Negative       0.83      0.67      0.74      4804\n",
      "   Positive       0.94      0.97      0.96     25196\n",
      "\n",
      "avg / total       0.92      0.93      0.92     30000\n",
      "\n"
     ]
    }
   ],
   "source": [
    "#Fitting model against TF-IDF\n",
    "\n",
    "Model=fit_and_val_model(tf_idf_train,y_train,tf_idf_test,y_test,\"TF-IDF\")"
   ]
  },
  {
   "cell_type": "code",
   "execution_count": 32,
   "metadata": {},
   "outputs": [
    {
     "name": "stderr",
     "output_type": "stream",
     "text": [
      "No handles with labels found to put in legend.\n"
     ]
    },
    {
     "data": {
      "image/png": "[encoded data removed]",
      "text/plain": [
       "<matplotlib.figure.Figure at 0x22fb5647f28>"
      ]
     },
     "metadata": {},
     "output_type": "display_data"
    }
   ],
   "source": [
    "plot_error_vs_c_r(Model)"
   ]
  },
  {
   "cell_type": "markdown",
   "metadata": {},
   "source": [
    "## Positive and Negative important Feature"
   ]
  },
  {
   "cell_type": "code",
   "execution_count": 75,
   "metadata": {},
   "outputs": [
    {
     "name": "stdout",
     "output_type": "stream",
     "text": [
      "\n",
      "-Top 20 positive-\n",
      "Coefficient            Word\n",
      "  53.268579           great\n",
      "  46.017515            best\n",
      "  44.731027          delici\n",
      "  43.958488            love\n",
      "  43.533615         perfect\n",
      "  36.770204           excel\n",
      "  35.382622            nice\n",
      "  35.075769  high recommend\n",
      "  33.296421            amaz\n",
      "  28.842241            good\n",
      "  28.389148          wonder\n",
      "  26.735957         favorit\n",
      "  26.559487         without\n",
      "  25.917003           thank\n",
      "  24.634959           yummi\n",
      "  24.273313          smooth\n",
      "  24.203884           worri\n",
      "  23.827254            hook\n",
      "  23.821736            easi\n",
      "  22.859229          awesom\n",
      "\n",
      "-Top 20 negative-\n",
      "Coefficient        Word\n",
      " -25.994713       shame\n",
      " -26.505790      cancel\n",
      " -26.827463   never buy\n",
      " -27.093618       trash\n",
      " -27.292348       sorri\n",
      " -27.433316        wast\n",
      " -28.324677        weak\n",
      " -28.547180       stale\n",
      " -28.644562   tasteless\n",
      " -30.108636    two star\n",
      " -30.139456     disgust\n",
      " -30.432148       threw\n",
      " -31.611178       bland\n",
      " -32.568419    unfortun\n",
      " -34.392851      return\n",
      " -35.923372     horribl\n",
      " -36.168662          aw\n",
      " -40.756866     terribl\n",
      " -48.189019  disappoint\n",
      " -54.754130       worst\n"
     ]
    }
   ],
   "source": [
    "w = tf_idf_vect.get_feature_names()\n",
    "coef = Model.best_estimator_.coef_.tolist()[0]\n",
    "coeff_df = pd.DataFrame({'Word' : w, 'Coefficient' : coef})\n",
    "coeff_df = coeff_df.sort_values(['Coefficient', 'Word'], ascending=[0, 1])\n",
    "print('')\n",
    "print('-Top 20 positive-')\n",
    "print(coeff_df.head(20).to_string(index=False))\n",
    "print('')\n",
    "print('-Top 20 negative-')        \n",
    "print(coeff_df.tail(20).to_string(index=False))\n"
   ]
  },
  {
   "cell_type": "markdown",
   "metadata": {},
   "source": [
    "## Wieghted Word2Vec Model"
   ]
  },
  {
   "cell_type": "code",
   "execution_count": 33,
   "metadata": {},
   "outputs": [
    {
     "name": "stdout",
     "output_type": "stream",
     "text": [
      "100000\n",
      "50\n"
     ]
    }
   ],
   "source": [
    "#Creating sentence vector\n",
    "\n",
    "list_of_sent=[]\n",
    "for sent in filtered_100k.CleanedText:\n",
    "    list_of_sent.append(sent.split())\n",
    "#Word2vec model\n",
    "w2v_model=Word2Vec(list_of_sent,min_count=5,size=50, workers=4)\n",
    "w2v_words = list(w2v_model.wv.vocab)\n",
    "# average Word2Vec\n",
    "# compute average word2vec for each review.\n",
    "sent_vectors = []; # the avg-w2v for each sentence/review is stored in this list\n",
    "for sent in list_of_sent: # for each review/sentence\n",
    "    sent_vec = np.zeros(50) # as word vectors are of zero length\n",
    "    cnt_words =0; # num of words with a valid vector in the sentence/review\n",
    "    for word in sent: # for each word in a review/sentence\n",
    "        if word in w2v_words:\n",
    "            vec = w2v_model.wv[word]\n",
    "            sent_vec += vec\n",
    "            cnt_words += 1\n",
    "    if cnt_words != 0:\n",
    "        sent_vec /= cnt_words\n",
    "    sent_vectors.append(sent_vec)\n",
    "print(len(sent_vectors))\n",
    "print(len(sent_vectors[0]))"
   ]
  },
  {
   "cell_type": "code",
   "execution_count": 34,
   "metadata": {
    "collapsed": true
   },
   "outputs": [],
   "source": [
    "#Train test split\n",
    "w2v_train, w2v_test, y_train, y_test = train_test_split(sent_vectors, label, test_size=0.3, random_state=50)"
   ]
  },
  {
   "cell_type": "code",
   "execution_count": 35,
   "metadata": {
    "collapsed": true
   },
   "outputs": [],
   "source": [
    "#Feature scaling\n",
    "scaler = Normalizer()\n",
    "scaler.fit(w2v_train)\n",
    "w2v_train=scaler.transform(w2v_train)\n",
    "w2v_test=scaler.transform(w2v_test)"
   ]
  },
  {
   "cell_type": "code",
   "execution_count": 36,
   "metadata": {},
   "outputs": [
    {
     "name": "stdout",
     "output_type": "stream",
     "text": [
      "LogisticRegression(C=10, class_weight=None, dual=False, fit_intercept=True,\n",
      "          intercept_scaling=1, max_iter=100, multi_class='ovr', n_jobs=1,\n",
      "          penalty='l2', random_state=None, solver='liblinear', tol=0.0001,\n",
      "          verbose=0, warm_start=False)\n",
      "\n",
      "The model F-1 score is 88.19146404613421\n",
      "\n",
      "\n",
      "F-1 Scores on test data on optimal parameters is  93.7008 %\n",
      "\n",
      "\n",
      "[[ 2384  2420]\n",
      " [  853 24343]]\n"
     ]
    },
    {
     "data": {
      "image/png": "[encoded data removed]",
      "text/plain": [
       "<matplotlib.figure.Figure at 0x22fb5046c88>"
      ]
     },
     "metadata": {},
     "output_type": "display_data"
    },
    {
     "name": "stdout",
     "output_type": "stream",
     "text": [
      "             precision    recall  f1-score   support\n",
      "\n",
      "   Negative       0.74      0.50      0.59      4804\n",
      "   Positive       0.91      0.97      0.94     25196\n",
      "\n",
      "avg / total       0.88      0.89      0.88     30000\n",
      "\n"
     ]
    }
   ],
   "source": [
    "#Fitting the model\n",
    "\n",
    "Model=fit_and_val_model(w2v_train,y_train,w2v_test,y_test,\"Wod2vec\")"
   ]
  },
  {
   "cell_type": "code",
   "execution_count": 37,
   "metadata": {},
   "outputs": [
    {
     "name": "stderr",
     "output_type": "stream",
     "text": [
      "No handles with labels found to put in legend.\n"
     ]
    },
    {
     "data": {
      "image/png": "[encoded data removed]",
      "text/plain": [
       "<matplotlib.figure.Figure at 0x22fb5647cc0>"
      ]
     },
     "metadata": {},
     "output_type": "display_data"
    }
   ],
   "source": [
    "plot_error_vs_c_r(Model)"
   ]
  },
  {
   "cell_type": "markdown",
   "metadata": {},
   "source": [
    "## Wieghted TF-IDF"
   ]
  },
  {
   "cell_type": "code",
   "execution_count": 38,
   "metadata": {},
   "outputs": [
    {
     "data": {
      "text/plain": [
       "10159"
      ]
     },
     "execution_count": 38,
     "metadata": {},
     "output_type": "execute_result"
    }
   ],
   "source": [
    "#sentence vector creation\n",
    "list_of_sent_train=[]\n",
    "for sent in X_train.CleanedText:\n",
    "    list_of_sent_train.append(sent.split())\n",
    "\n",
    "\n",
    "\n",
    "    \n",
    "list_of_sent_test=[]\n",
    "for sent in X_test.CleanedText:\n",
    "    list_of_sent_test.append(sent.split())\n",
    "    \n",
    "w2v_model=Word2Vec(list_of_sent_train,min_count=5,size=50, workers=4)\n",
    "w2v_words = list(w2v_model.wv.vocab)\n",
    "\n",
    "len(w2v_words)"
   ]
  },
  {
   "cell_type": "code",
   "execution_count": 39,
   "metadata": {},
   "outputs": [
    {
     "name": "stdout",
     "output_type": "stream",
     "text": [
      "the type of count vectorizer  <class 'sklearn.feature_extraction.text.TfidfVectorizer'>\n"
     ]
    }
   ],
   "source": [
    "#TF-IDF Vectorizer initialization \n",
    "\n",
    "tf_idf_vect = TfidfVectorizer(ngram_range=(1,2))\n",
    "filtered_tf_idf = tf_idf_vect.fit(X_train.CleanedText)\n",
    "dictionary = dict(zip(tf_idf_vect.get_feature_names(), list(tf_idf_vect.idf_)))\n",
    "print(\"the type of count vectorizer \",type(filtered_tf_idf))\n",
    "\n",
    "\n",
    "tf_idf_train=tf_idf_vect.transform(X_train.CleanedText)\n",
    "tf_idf_test=tf_idf_vect.transform(X_test.CleanedText)"
   ]
  },
  {
   "cell_type": "code",
   "execution_count": 40,
   "metadata": {
    "collapsed": true
   },
   "outputs": [],
   "source": [
    "#creating weighted TF-IDF\n",
    "\n",
    "\n",
    "def w_tf_idf(X,word_vector,model,tfidf_feat,filtered_tf_idf):\n",
    "    tfidf_sent_vectors = []; # the tfidf-w2v for each sentence/review is stored in this list\n",
    "#    row=0;\n",
    "    for sent in X: # for each review/sentence \n",
    "        sent_vec = np.zeros(50) # as word vectors are of zero length\n",
    "        weight_sum =0; # num of words with a valid vector in the sentence/review\n",
    "        for word in sent: # for each word in a review/sentence\n",
    "            if word in word_vector:\n",
    "                vec = model.wv[word]\n",
    "            # obtain the tf_idfidf of a word in a sentence/review\n",
    "                tf_idf = dictionary[word]*sent.count(word)\n",
    "                \"\"\"tf_idf = filtered_tf_idf[row, tfidf_feat.index(word)]\"\"\"\n",
    "                sent_vec += (vec * tf_idf)\n",
    "                weight_sum += tf_idf\n",
    "        if weight_sum != 0:\n",
    "            sent_vec /= weight_sum\n",
    "        tfidf_sent_vectors.append(sent_vec)\n",
    "#        row += 1\n",
    "    print(len(tfidf_sent_vectors))\n",
    "    print(len(tfidf_sent_vectors[0]))\n",
    "    return tfidf_sent_vectors"
   ]
  },
  {
   "cell_type": "code",
   "execution_count": 41,
   "metadata": {},
   "outputs": [
    {
     "name": "stdout",
     "output_type": "stream",
     "text": [
      "70000\n",
      "50\n",
      "30000\n",
      "50\n"
     ]
    }
   ],
   "source": [
    "tfidf_feat = tf_idf_vect.get_feature_names() \n",
    "tf_idf_sent_vectors_train=w_tf_idf(list_of_sent_train,w2v_words,w2v_model,tfidf_feat,tf_idf_train)\n",
    "tf_idf_sent_vectors_test=w_tf_idf(list_of_sent_test,w2v_words,w2v_model,tfidf_feat,tf_idf_test)"
   ]
  },
  {
   "cell_type": "code",
   "execution_count": 42,
   "metadata": {
    "collapsed": true
   },
   "outputs": [],
   "source": [
    "#Feature scaling\n",
    "\n",
    "scaler = Normalizer()\n",
    "scaler.fit(w2v_train)\n",
    "tfidf_wieghted_train=scaler.transform(tf_idf_sent_vectors_train)\n",
    "tfidf_wieghted_test=scaler.transform(tf_idf_sent_vectors_test)"
   ]
  },
  {
   "cell_type": "code",
   "execution_count": 43,
   "metadata": {},
   "outputs": [
    {
     "name": "stdout",
     "output_type": "stream",
     "text": [
      "LogisticRegression(C=10000, class_weight=None, dual=False, fit_intercept=True,\n",
      "          intercept_scaling=1, max_iter=100, multi_class='ovr', n_jobs=1,\n",
      "          penalty='l2', random_state=None, solver='liblinear', tol=0.0001,\n",
      "          verbose=0, warm_start=False)\n",
      "\n",
      "The model F-1 score is 86.16844131988583\n",
      "\n",
      "\n",
      "F-1 Scores on test data on optimal parameters is  92.9712 %\n",
      "\n",
      "\n",
      "[[ 1883  2921]\n",
      " [  772 24424]]\n"
     ]
    },
    {
     "data": {
      "image/png": "[encoded data removed]",
      "text/plain": [
       "<matplotlib.figure.Figure at 0x22fae67f470>"
      ]
     },
     "metadata": {},
     "output_type": "display_data"
    },
    {
     "name": "stdout",
     "output_type": "stream",
     "text": [
      "             precision    recall  f1-score   support\n",
      "\n",
      "   Negative       0.71      0.39      0.50      4804\n",
      "   Positive       0.89      0.97      0.93     25196\n",
      "\n",
      "avg / total       0.86      0.88      0.86     30000\n",
      "\n"
     ]
    }
   ],
   "source": [
    "# Model fitting\n",
    "\n",
    "Model=fit_and_val_model(tfidf_wieghted_train,y_train,tfidf_wieghted_test,y_test,\"Wieghted TF-IDF\")"
   ]
  },
  {
   "cell_type": "code",
   "execution_count": 44,
   "metadata": {},
   "outputs": [
    {
     "name": "stderr",
     "output_type": "stream",
     "text": [
      "No handles with labels found to put in legend.\n"
     ]
    },
    {
     "data": {
      "image/png": "[encoded data removed]",
      "text/plain": [
       "<matplotlib.figure.Figure at 0x22fedc71550>"
      ]
     },
     "metadata": {},
     "output_type": "display_data"
    }
   ],
   "source": [
    "plot_error_vs_c_r(Model)"
   ]
  },
  {
   "cell_type": "code",
   "execution_count": 45,
   "metadata": {},
   "outputs": [
    {
     "name": "stdout",
     "output_type": "stream",
     "text": [
      "+-----------------+--------------+-----------+-------------------+\n",
      "|      Method     |    Model     | Optimam C |     F-1 Score     |\n",
      "+-----------------+--------------+-----------+-------------------+\n",
      "|       BOW       | Logistic_Reg |    100    | 95.52663922433133 |\n",
      "|      TF-IDF     | Logistic_Reg |   10000   | 95.62554851292052 |\n",
      "|     Wod2vec     | Logistic_Reg |     10    | 93.70080255586136 |\n",
      "| Wieghted TF-IDF | Logistic_Reg |   10000   | 92.97120344112217 |\n",
      "+-----------------+--------------+-----------+-------------------+\n"
     ]
    }
   ],
   "source": [
    "print(summary_table)"
   ]
  },
  {
   "cell_type": "markdown",
   "metadata": {
    "collapsed": true
   },
   "source": [
    "### Conclusion:BOW and TF-IDF has performed better than word2vec and weighted TF-IDF model for Logistic Regression"
   ]
  }
 ],
 "metadata": {
  "kernelspec": {
   "display_name": "Python 3",
   "language": "python",
   "name": "python3"
  },
  "language_info": {
   "codemirror_mode": {
    "name": "ipython",
    "version": 3
   },
   "file_extension": ".py",
   "mimetype": "text/x-python",
   "name": "python",
   "nbconvert_exporter": "python",
   "pygments_lexer": "ipython3",
   "version": "3.6.3"
  }
 },
 "nbformat": 4,
 "nbformat_minor": 2
}
